{
 "cells": [
  {
   "cell_type": "markdown",
   "metadata": {},
   "source": [
    "## Exploring the Universal Mills List dataset"
   ]
  },
  {
   "cell_type": "markdown",
   "metadata": {},
   "source": [
    "#### Dataset Description\n",
    "\n",
    "The Universal Mills List (UML) is a spatially-explicit dataset of over 1,800 palm oil mills across 26 countries. Attributes including the parent company, mill name, RSPO certification status, and location were collected from individual mill lists using a standardized approach to prevent duplicates. Locations of the mills were verified from Planet nanosatellite imagery and assigned a unique universal ID. By ensuring data integrity through a standardized approach and verification process, the UML dataset provides further transparency towards the traceability of palm oil supply chains."
   ]
  },
  {
   "cell_type": "markdown",
   "metadata": {},
   "source": [
    "#### Notebook\n",
    "In this notebook, I will explore and visualize the UML dataset using popular python libraries."
   ]
  },
  {
   "cell_type": "markdown",
   "metadata": {},
   "source": [
    "### 1. Import and Inputs"
   ]
  },
  {
   "cell_type": "code",
   "execution_count": 1,
   "metadata": {},
   "outputs": [],
   "source": [
    "# import required libraries\n",
    "import numpy as np                # for array indexing\n",
    "import pandas as pd               # for exploring and filtering tabular data\n",
    "import geopandas as gpd           # for extracting and visualizing location data\n",
    "import matplotlib.pyplot as plt   # for plotting data"
   ]
  },
  {
   "cell_type": "code",
   "execution_count": 2,
   "metadata": {},
   "outputs": [],
   "source": [
    "# read in the data\n",
    "path_to_uml = 'data/uml.csv'\n",
    "uml_df = pd.read_csv(path_to_uml)"
   ]
  },
  {
   "cell_type": "markdown",
   "metadata": {},
   "source": [
    "### 2. Data Exploration"
   ]
  },
  {
   "cell_type": "markdown",
   "metadata": {},
   "source": [
    "`pandas` allows for easy data exploration, filtering, and cleaning using vectorized methods. Let's explore the UML dataset."
   ]
  },
  {
   "cell_type": "code",
   "execution_count": 3,
   "metadata": {
    "scrolled": true
   },
   "outputs": [
    {
     "data": {
      "text/html": [
       "<div>\n",
       "<style scoped>\n",
       "    .dataframe tbody tr th:only-of-type {\n",
       "        vertical-align: middle;\n",
       "    }\n",
       "\n",
       "    .dataframe tbody tr th {\n",
       "        vertical-align: top;\n",
       "    }\n",
       "\n",
       "    .dataframe thead th {\n",
       "        text-align: right;\n",
       "    }\n",
       "</style>\n",
       "<table border=\"1\" class=\"dataframe\">\n",
       "  <thead>\n",
       "    <tr style=\"text-align: right;\">\n",
       "      <th></th>\n",
       "      <th>UML_ID</th>\n",
       "      <th>Parent_Com</th>\n",
       "      <th>Mill_name</th>\n",
       "      <th>RSPO_STATU</th>\n",
       "      <th>RSPO_Type</th>\n",
       "      <th>Date</th>\n",
       "      <th>Latitude</th>\n",
       "      <th>Longitude</th>\n",
       "      <th>GPS</th>\n",
       "      <th>GPS_X</th>\n",
       "      <th>GPS_Y</th>\n",
       "      <th>ISO</th>\n",
       "      <th>Country</th>\n",
       "      <th>Province</th>\n",
       "      <th>District</th>\n",
       "      <th>Confidence</th>\n",
       "      <th>Alternativ</th>\n",
       "      <th>UML_ID_1</th>\n",
       "    </tr>\n",
       "  </thead>\n",
       "  <tbody>\n",
       "    <tr>\n",
       "      <th>0</th>\n",
       "      <td>PO1000000017</td>\n",
       "      <td>Agropalma Group</td>\n",
       "      <td>Agropalma Group - Cpa Mill</td>\n",
       "      <td>Not RSPO Certified</td>\n",
       "      <td>NaN</td>\n",
       "      <td>43438</td>\n",
       "      <td>-2.253539</td>\n",
       "      <td>-48.585670</td>\n",
       "      <td>-2.253539, -48.58567</td>\n",
       "      <td>-48.585670</td>\n",
       "      <td>-2.253539</td>\n",
       "      <td>BRA</td>\n",
       "      <td>Brazil</td>\n",
       "      <td>Pará</td>\n",
       "      <td>Acará</td>\n",
       "      <td>2 - High Confidence</td>\n",
       "      <td>NaN</td>\n",
       "      <td>PO1000000017</td>\n",
       "    </tr>\n",
       "    <tr>\n",
       "      <th>1</th>\n",
       "      <td>PO1000000019</td>\n",
       "      <td>Epa Management Sdn Bhd</td>\n",
       "      <td>Kulim (Malaysia) Berhad - Sedenak Palm Oil Mill</td>\n",
       "      <td>RSPO Certified</td>\n",
       "      <td>RSPO Certified, MB</td>\n",
       "      <td>43438</td>\n",
       "      <td>1.730858</td>\n",
       "      <td>103.538323</td>\n",
       "      <td>1.730858, 103.538323</td>\n",
       "      <td>103.538323</td>\n",
       "      <td>1.730858</td>\n",
       "      <td>MYS</td>\n",
       "      <td>Malaysia</td>\n",
       "      <td>Johor</td>\n",
       "      <td>Johor Baharu</td>\n",
       "      <td>1 - Fully Verified</td>\n",
       "      <td>NaN</td>\n",
       "      <td>PO1000000019</td>\n",
       "    </tr>\n",
       "    <tr>\n",
       "      <th>2</th>\n",
       "      <td>PO1000000020</td>\n",
       "      <td>Sime Darby Plantation Berhad</td>\n",
       "      <td>New Britain Palm Oil Ltd – Mosa</td>\n",
       "      <td>RSPO Certified</td>\n",
       "      <td>RSPO Certified, IP</td>\n",
       "      <td>43438</td>\n",
       "      <td>-5.622500</td>\n",
       "      <td>150.237350</td>\n",
       "      <td>-5.6225, 150.23735</td>\n",
       "      <td>150.237350</td>\n",
       "      <td>-5.622500</td>\n",
       "      <td>PNG</td>\n",
       "      <td>Papua New Guinea</td>\n",
       "      <td>West New Britain</td>\n",
       "      <td>Talasea</td>\n",
       "      <td>1 - Fully Verified</td>\n",
       "      <td>NaN</td>\n",
       "      <td>PO1000000020</td>\n",
       "    </tr>\n",
       "    <tr>\n",
       "      <th>3</th>\n",
       "      <td>PO1000000021</td>\n",
       "      <td>Inti Indosawit Subur</td>\n",
       "      <td>Pt Inti Indosawit Subur - Buatan I</td>\n",
       "      <td>Not RSPO Certified</td>\n",
       "      <td>NaN</td>\n",
       "      <td>43438</td>\n",
       "      <td>0.434444</td>\n",
       "      <td>101.825000</td>\n",
       "      <td>0.4344444, 101.825</td>\n",
       "      <td>101.825000</td>\n",
       "      <td>0.434444</td>\n",
       "      <td>IDN</td>\n",
       "      <td>Indonesia</td>\n",
       "      <td>Riau</td>\n",
       "      <td>Siak</td>\n",
       "      <td>2 - High Confidence</td>\n",
       "      <td>NaN</td>\n",
       "      <td>PO1000000021</td>\n",
       "    </tr>\n",
       "    <tr>\n",
       "      <th>4</th>\n",
       "      <td>PO1000000052</td>\n",
       "      <td>Ioi Corporation Berhad</td>\n",
       "      <td>Pamol Estates (Sabah) Sdn Bhd - Pamol Sabah Pa...</td>\n",
       "      <td>RSPO Certified</td>\n",
       "      <td>RSPO Certified, IP</td>\n",
       "      <td>43438</td>\n",
       "      <td>6.002431</td>\n",
       "      <td>117.398389</td>\n",
       "      <td>6.002431, 117.398389</td>\n",
       "      <td>117.398389</td>\n",
       "      <td>6.002431</td>\n",
       "      <td>MYS</td>\n",
       "      <td>Malaysia</td>\n",
       "      <td>Sabah</td>\n",
       "      <td>Labuk &amp; Sugut</td>\n",
       "      <td>1 - Fully Verified</td>\n",
       "      <td>NaN</td>\n",
       "      <td>PO1000000052</td>\n",
       "    </tr>\n",
       "    <tr>\n",
       "      <th>5</th>\n",
       "      <td>PO1000000053</td>\n",
       "      <td>Sipef Group</td>\n",
       "      <td>Hargy Palm Oil Mill - Sipef</td>\n",
       "      <td>RSPO Certified</td>\n",
       "      <td>RSPO Certified, IP</td>\n",
       "      <td>43438</td>\n",
       "      <td>-5.311111</td>\n",
       "      <td>151.010970</td>\n",
       "      <td>-5.311111, 151.01097</td>\n",
       "      <td>151.010970</td>\n",
       "      <td>-5.311111</td>\n",
       "      <td>PNG</td>\n",
       "      <td>Papua New Guinea</td>\n",
       "      <td>Bubu</td>\n",
       "      <td>Talasea</td>\n",
       "      <td>1 - Fully Verified</td>\n",
       "      <td>NaN</td>\n",
       "      <td>PO1000000053</td>\n",
       "    </tr>\n",
       "    <tr>\n",
       "      <th>6</th>\n",
       "      <td>PO1000000054</td>\n",
       "      <td>Musim Mas</td>\n",
       "      <td>Pt. Musim Mas - Pks Batang Kulim</td>\n",
       "      <td>RSPO Certified</td>\n",
       "      <td>RSPO Certified, IP</td>\n",
       "      <td>43438</td>\n",
       "      <td>0.077043</td>\n",
       "      <td>102.030838</td>\n",
       "      <td>0.077043, 102.030838</td>\n",
       "      <td>102.030838</td>\n",
       "      <td>0.077043</td>\n",
       "      <td>IDN</td>\n",
       "      <td>Indonesia</td>\n",
       "      <td>Riau</td>\n",
       "      <td>Pelalawan</td>\n",
       "      <td>1 - Fully Verified</td>\n",
       "      <td>NaN</td>\n",
       "      <td>PO1000000054</td>\n",
       "    </tr>\n",
       "    <tr>\n",
       "      <th>7</th>\n",
       "      <td>PO1000000058</td>\n",
       "      <td>Cargill Incorporated</td>\n",
       "      <td>Cargill - Hindoli</td>\n",
       "      <td>RSPO Certified</td>\n",
       "      <td>RSPO Certified, IP</td>\n",
       "      <td>43438</td>\n",
       "      <td>-2.608100</td>\n",
       "      <td>104.125250</td>\n",
       "      <td>-2.6081, 104.12525</td>\n",
       "      <td>104.125250</td>\n",
       "      <td>-2.608100</td>\n",
       "      <td>IDN</td>\n",
       "      <td>Indonesia</td>\n",
       "      <td>South Sumatra</td>\n",
       "      <td>Musi Banyuasin</td>\n",
       "      <td>2 - High Confidence</td>\n",
       "      <td>NaN</td>\n",
       "      <td>PO1000000058</td>\n",
       "    </tr>\n",
       "    <tr>\n",
       "      <th>8</th>\n",
       "      <td>PO1000000063</td>\n",
       "      <td>Sime Darby</td>\n",
       "      <td>Binuang Oil Mill - Sime Darby</td>\n",
       "      <td>RSPO Certified</td>\n",
       "      <td>RSPO Certified, IP</td>\n",
       "      <td>43438</td>\n",
       "      <td>4.704457</td>\n",
       "      <td>118.060186</td>\n",
       "      <td>4.704457, 118.060186</td>\n",
       "      <td>118.060186</td>\n",
       "      <td>4.704457</td>\n",
       "      <td>MYS</td>\n",
       "      <td>Malaysia</td>\n",
       "      <td>Sabah</td>\n",
       "      <td>Lahad Datu</td>\n",
       "      <td>1 - Fully Verified</td>\n",
       "      <td>NaN</td>\n",
       "      <td>PO1000000063</td>\n",
       "    </tr>\n",
       "    <tr>\n",
       "      <th>9</th>\n",
       "      <td>PO1000000064</td>\n",
       "      <td>Sime Darby</td>\n",
       "      <td>Merotai Oil Mill - Sime Darby</td>\n",
       "      <td>RSPO Certified</td>\n",
       "      <td>RSPO Certified, MB</td>\n",
       "      <td>43438</td>\n",
       "      <td>4.369347</td>\n",
       "      <td>117.832905</td>\n",
       "      <td>4.369347, 117.832905</td>\n",
       "      <td>117.832905</td>\n",
       "      <td>4.369347</td>\n",
       "      <td>MYS</td>\n",
       "      <td>Malaysia</td>\n",
       "      <td>Sabah</td>\n",
       "      <td>Tawau</td>\n",
       "      <td>1 - Fully Verified</td>\n",
       "      <td>NaN</td>\n",
       "      <td>PO1000000064</td>\n",
       "    </tr>\n",
       "  </tbody>\n",
       "</table>\n",
       "</div>"
      ],
      "text/plain": [
       "         UML_ID                    Parent_Com  \\\n",
       "0  PO1000000017               Agropalma Group   \n",
       "1  PO1000000019        Epa Management Sdn Bhd   \n",
       "2  PO1000000020  Sime Darby Plantation Berhad   \n",
       "3  PO1000000021          Inti Indosawit Subur   \n",
       "4  PO1000000052        Ioi Corporation Berhad   \n",
       "5  PO1000000053                   Sipef Group   \n",
       "6  PO1000000054                     Musim Mas   \n",
       "7  PO1000000058          Cargill Incorporated   \n",
       "8  PO1000000063                    Sime Darby   \n",
       "9  PO1000000064                    Sime Darby   \n",
       "\n",
       "                                           Mill_name          RSPO_STATU  \\\n",
       "0                         Agropalma Group - Cpa Mill  Not RSPO Certified   \n",
       "1    Kulim (Malaysia) Berhad - Sedenak Palm Oil Mill      RSPO Certified   \n",
       "2                    New Britain Palm Oil Ltd – Mosa      RSPO Certified   \n",
       "3                 Pt Inti Indosawit Subur - Buatan I  Not RSPO Certified   \n",
       "4  Pamol Estates (Sabah) Sdn Bhd - Pamol Sabah Pa...      RSPO Certified   \n",
       "5                        Hargy Palm Oil Mill - Sipef      RSPO Certified   \n",
       "6                   Pt. Musim Mas - Pks Batang Kulim      RSPO Certified   \n",
       "7                                  Cargill - Hindoli      RSPO Certified   \n",
       "8                      Binuang Oil Mill - Sime Darby      RSPO Certified   \n",
       "9                      Merotai Oil Mill - Sime Darby      RSPO Certified   \n",
       "\n",
       "            RSPO_Type   Date  Latitude   Longitude                   GPS  \\\n",
       "0                 NaN  43438 -2.253539  -48.585670  -2.253539, -48.58567   \n",
       "1  RSPO Certified, MB  43438  1.730858  103.538323  1.730858, 103.538323   \n",
       "2  RSPO Certified, IP  43438 -5.622500  150.237350    -5.6225, 150.23735   \n",
       "3                 NaN  43438  0.434444  101.825000    0.4344444, 101.825   \n",
       "4  RSPO Certified, IP  43438  6.002431  117.398389  6.002431, 117.398389   \n",
       "5  RSPO Certified, IP  43438 -5.311111  151.010970  -5.311111, 151.01097   \n",
       "6  RSPO Certified, IP  43438  0.077043  102.030838  0.077043, 102.030838   \n",
       "7  RSPO Certified, IP  43438 -2.608100  104.125250    -2.6081, 104.12525   \n",
       "8  RSPO Certified, IP  43438  4.704457  118.060186  4.704457, 118.060186   \n",
       "9  RSPO Certified, MB  43438  4.369347  117.832905  4.369347, 117.832905   \n",
       "\n",
       "        GPS_X     GPS_Y  ISO           Country          Province  \\\n",
       "0  -48.585670 -2.253539  BRA            Brazil              Pará   \n",
       "1  103.538323  1.730858  MYS          Malaysia             Johor   \n",
       "2  150.237350 -5.622500  PNG  Papua New Guinea  West New Britain   \n",
       "3  101.825000  0.434444  IDN         Indonesia              Riau   \n",
       "4  117.398389  6.002431  MYS          Malaysia             Sabah   \n",
       "5  151.010970 -5.311111  PNG  Papua New Guinea              Bubu   \n",
       "6  102.030838  0.077043  IDN         Indonesia              Riau   \n",
       "7  104.125250 -2.608100  IDN         Indonesia     South Sumatra   \n",
       "8  118.060186  4.704457  MYS          Malaysia             Sabah   \n",
       "9  117.832905  4.369347  MYS          Malaysia             Sabah   \n",
       "\n",
       "         District           Confidence Alternativ      UML_ID_1  \n",
       "0           Acará  2 - High Confidence        NaN  PO1000000017  \n",
       "1    Johor Baharu   1 - Fully Verified        NaN  PO1000000019  \n",
       "2         Talasea   1 - Fully Verified        NaN  PO1000000020  \n",
       "3            Siak  2 - High Confidence        NaN  PO1000000021  \n",
       "4   Labuk & Sugut   1 - Fully Verified        NaN  PO1000000052  \n",
       "5         Talasea   1 - Fully Verified        NaN  PO1000000053  \n",
       "6       Pelalawan   1 - Fully Verified        NaN  PO1000000054  \n",
       "7  Musi Banyuasin  2 - High Confidence        NaN  PO1000000058  \n",
       "8      Lahad Datu   1 - Fully Verified        NaN  PO1000000063  \n",
       "9           Tawau   1 - Fully Verified        NaN  PO1000000064  "
      ]
     },
     "execution_count": 3,
     "metadata": {},
     "output_type": "execute_result"
    }
   ],
   "source": [
    "# explore the first 10 rows of dataset\n",
    "uml_df.head(10)"
   ]
  },
  {
   "cell_type": "markdown",
   "metadata": {},
   "source": [
    "Each row appears to be a palm oil mill with a Unique ID and attributes related to RSPO status, location, and confidence level. "
   ]
  },
  {
   "cell_type": "markdown",
   "metadata": {},
   "source": [
    "We can find the number of palm oil mills in this dataframe by returning its length."
   ]
  },
  {
   "cell_type": "code",
   "execution_count": 4,
   "metadata": {
    "scrolled": true
   },
   "outputs": [
    {
     "data": {
      "text/plain": [
       "1818"
      ]
     },
     "execution_count": 4,
     "metadata": {},
     "output_type": "execute_result"
    }
   ],
   "source": [
    "# find number of rows in dataset\n",
    "len(uml_df)"
   ]
  },
  {
   "cell_type": "markdown",
   "metadata": {},
   "source": [
    "This dataset contains 1,818 palm oil mills."
   ]
  },
  {
   "cell_type": "markdown",
   "metadata": {},
   "source": [
    "Boolean filtering in `pandas` allows us to return rows of the dataframe in which the column matches a certain value, such as palm oil mills with an unknown parent company."
   ]
  },
  {
   "cell_type": "code",
   "execution_count": 5,
   "metadata": {},
   "outputs": [
    {
     "data": {
      "text/html": [
       "<div>\n",
       "<style scoped>\n",
       "    .dataframe tbody tr th:only-of-type {\n",
       "        vertical-align: middle;\n",
       "    }\n",
       "\n",
       "    .dataframe tbody tr th {\n",
       "        vertical-align: top;\n",
       "    }\n",
       "\n",
       "    .dataframe thead th {\n",
       "        text-align: right;\n",
       "    }\n",
       "</style>\n",
       "<table border=\"1\" class=\"dataframe\">\n",
       "  <thead>\n",
       "    <tr style=\"text-align: right;\">\n",
       "      <th></th>\n",
       "      <th>UML_ID</th>\n",
       "      <th>Parent_Com</th>\n",
       "      <th>Mill_name</th>\n",
       "      <th>RSPO_STATU</th>\n",
       "      <th>RSPO_Type</th>\n",
       "      <th>Date</th>\n",
       "      <th>Latitude</th>\n",
       "      <th>Longitude</th>\n",
       "      <th>GPS</th>\n",
       "      <th>GPS_X</th>\n",
       "      <th>GPS_Y</th>\n",
       "      <th>ISO</th>\n",
       "      <th>Country</th>\n",
       "      <th>Province</th>\n",
       "      <th>District</th>\n",
       "      <th>Confidence</th>\n",
       "      <th>Alternativ</th>\n",
       "      <th>UML_ID_1</th>\n",
       "    </tr>\n",
       "  </thead>\n",
       "  <tbody>\n",
       "    <tr>\n",
       "      <th>20</th>\n",
       "      <td>PO1000000101</td>\n",
       "      <td>Unknown</td>\n",
       "      <td>Segaliud Oil Mill - Sime Darby</td>\n",
       "      <td>Not RSPO Certified</td>\n",
       "      <td>NaN</td>\n",
       "      <td>43438</td>\n",
       "      <td>5.726001</td>\n",
       "      <td>117.754574</td>\n",
       "      <td>5.726001, 117.754574</td>\n",
       "      <td>117.754574</td>\n",
       "      <td>5.726001</td>\n",
       "      <td>MYS</td>\n",
       "      <td>Malaysia</td>\n",
       "      <td>Sabah</td>\n",
       "      <td>Sandakan</td>\n",
       "      <td>1 - Fully Verified</td>\n",
       "      <td>NaN</td>\n",
       "      <td>PO1000000101</td>\n",
       "    </tr>\n",
       "    <tr>\n",
       "      <th>148</th>\n",
       "      <td>PO1000000576</td>\n",
       "      <td>Unknown</td>\n",
       "      <td>Kks Bukit Mendi -Felda</td>\n",
       "      <td>Not RSPO Certified</td>\n",
       "      <td>NaN</td>\n",
       "      <td>43438</td>\n",
       "      <td>3.205803</td>\n",
       "      <td>102.303442</td>\n",
       "      <td>3.205803, 102.303442</td>\n",
       "      <td>102.303442</td>\n",
       "      <td>3.205803</td>\n",
       "      <td>MYS</td>\n",
       "      <td>Malaysia</td>\n",
       "      <td>Pahang</td>\n",
       "      <td>Bera</td>\n",
       "      <td>1 - Fully Verified</td>\n",
       "      <td>NaN</td>\n",
       "      <td>PO1000000576</td>\n",
       "    </tr>\n",
       "    <tr>\n",
       "      <th>152</th>\n",
       "      <td>PO1000000607</td>\n",
       "      <td>Unknown</td>\n",
       "      <td>Ks Jengka 21-Felda</td>\n",
       "      <td>Not RSPO Certified</td>\n",
       "      <td>NaN</td>\n",
       "      <td>43438</td>\n",
       "      <td>3.740236</td>\n",
       "      <td>102.489625</td>\n",
       "      <td>3.740236, 102.489625</td>\n",
       "      <td>102.489625</td>\n",
       "      <td>3.740236</td>\n",
       "      <td>MYS</td>\n",
       "      <td>Malaysia</td>\n",
       "      <td>Pahang</td>\n",
       "      <td>Maran</td>\n",
       "      <td>1 - Fully Verified</td>\n",
       "      <td>NaN</td>\n",
       "      <td>PO1000000607</td>\n",
       "    </tr>\n",
       "    <tr>\n",
       "      <th>253</th>\n",
       "      <td>PO1000001703</td>\n",
       "      <td>Unknown</td>\n",
       "      <td>Fpisb Ks Kalabakan</td>\n",
       "      <td>Not RSPO Certified</td>\n",
       "      <td>NaN</td>\n",
       "      <td>43438</td>\n",
       "      <td>4.370035</td>\n",
       "      <td>117.512487</td>\n",
       "      <td>4.370035, 117.512487</td>\n",
       "      <td>117.512487</td>\n",
       "      <td>4.370035</td>\n",
       "      <td>MYS</td>\n",
       "      <td>Malaysia</td>\n",
       "      <td>Sabah</td>\n",
       "      <td>Tawau</td>\n",
       "      <td>1 - Fully Verified</td>\n",
       "      <td>NaN</td>\n",
       "      <td>PO1000001703</td>\n",
       "    </tr>\n",
       "    <tr>\n",
       "      <th>268</th>\n",
       "      <td>PO1000001895</td>\n",
       "      <td>Unknown</td>\n",
       "      <td>Fpisb Kilang Sawit Keratong 3</td>\n",
       "      <td>Not RSPO Certified</td>\n",
       "      <td>NaN</td>\n",
       "      <td>43438</td>\n",
       "      <td>2.929591</td>\n",
       "      <td>102.935503</td>\n",
       "      <td>2.929591, 102.935503</td>\n",
       "      <td>102.935503</td>\n",
       "      <td>2.929591</td>\n",
       "      <td>MYS</td>\n",
       "      <td>Malaysia</td>\n",
       "      <td>Pahang</td>\n",
       "      <td>Rompin</td>\n",
       "      <td>1 - Fully Verified</td>\n",
       "      <td>NaN</td>\n",
       "      <td>PO1000001895</td>\n",
       "    </tr>\n",
       "  </tbody>\n",
       "</table>\n",
       "</div>"
      ],
      "text/plain": [
       "           UML_ID Parent_Com                       Mill_name  \\\n",
       "20   PO1000000101    Unknown  Segaliud Oil Mill - Sime Darby   \n",
       "148  PO1000000576    Unknown          Kks Bukit Mendi -Felda   \n",
       "152  PO1000000607    Unknown              Ks Jengka 21-Felda   \n",
       "253  PO1000001703    Unknown              Fpisb Ks Kalabakan   \n",
       "268  PO1000001895    Unknown   Fpisb Kilang Sawit Keratong 3   \n",
       "\n",
       "             RSPO_STATU RSPO_Type   Date  Latitude   Longitude  \\\n",
       "20   Not RSPO Certified       NaN  43438  5.726001  117.754574   \n",
       "148  Not RSPO Certified       NaN  43438  3.205803  102.303442   \n",
       "152  Not RSPO Certified       NaN  43438  3.740236  102.489625   \n",
       "253  Not RSPO Certified       NaN  43438  4.370035  117.512487   \n",
       "268  Not RSPO Certified       NaN  43438  2.929591  102.935503   \n",
       "\n",
       "                      GPS       GPS_X     GPS_Y  ISO   Country Province  \\\n",
       "20   5.726001, 117.754574  117.754574  5.726001  MYS  Malaysia    Sabah   \n",
       "148  3.205803, 102.303442  102.303442  3.205803  MYS  Malaysia   Pahang   \n",
       "152  3.740236, 102.489625  102.489625  3.740236  MYS  Malaysia   Pahang   \n",
       "253  4.370035, 117.512487  117.512487  4.370035  MYS  Malaysia    Sabah   \n",
       "268  2.929591, 102.935503  102.935503  2.929591  MYS  Malaysia   Pahang   \n",
       "\n",
       "     District          Confidence Alternativ      UML_ID_1  \n",
       "20   Sandakan  1 - Fully Verified        NaN  PO1000000101  \n",
       "148      Bera  1 - Fully Verified        NaN  PO1000000576  \n",
       "152     Maran  1 - Fully Verified        NaN  PO1000000607  \n",
       "253     Tawau  1 - Fully Verified        NaN  PO1000001703  \n",
       "268    Rompin  1 - Fully Verified        NaN  PO1000001895  "
      ]
     },
     "execution_count": 5,
     "metadata": {},
     "output_type": "execute_result"
    }
   ],
   "source": [
    "# find number of palm oil mills with unknown parent companies\n",
    "unk_company_df = uml_df[uml_df['Parent_Com'] == 'Unknown']\n",
    "unk_company_df.head()"
   ]
  },
  {
   "cell_type": "code",
   "execution_count": 6,
   "metadata": {},
   "outputs": [
    {
     "data": {
      "text/plain": [
       "93"
      ]
     },
     "execution_count": 6,
     "metadata": {},
     "output_type": "execute_result"
    }
   ],
   "source": [
    "len(unk_company_df)"
   ]
  },
  {
   "cell_type": "markdown",
   "metadata": {},
   "source": [
    "The parent company is unknown for 93 of the palm oil mills in this dataset."
   ]
  },
  {
   "cell_type": "markdown",
   "metadata": {},
   "source": [
    "We can use `.valuecounts()` to explore the values within a `Series` or column of a dataframe. Let's explore the most common countries in the dataframe."
   ]
  },
  {
   "cell_type": "code",
   "execution_count": 7,
   "metadata": {},
   "outputs": [
    {
     "data": {
      "text/plain": [
       "Indonesia             1043\n",
       "Malaysia               503\n",
       "Colombia                65\n",
       "Thailand                43\n",
       "Ecuador                 31\n",
       "Guatemala               18\n",
       "Papua New Guinea        15\n",
       "Honduras                15\n",
       "Mexico                  14\n",
       "Brazil                  12\n",
       "Côte d'Ivoire           11\n",
       "Peru                    10\n",
       "Costa Rica               8\n",
       "Ghana                    7\n",
       "India                    6\n",
       "Panama                   4\n",
       "Cambodia                 2\n",
       "Dominican Republic       2\n",
       "Nicaragua                2\n",
       "Philipines               1\n",
       "Solomon Islands          1\n",
       "Sri Lanka                1\n",
       "Madagascar               1\n",
       "Gabon                    1\n",
       "Venezuela                1\n",
       "Nigeria                  1\n",
       "Name: Country, dtype: int64"
      ]
     },
     "execution_count": 7,
     "metadata": {},
     "output_type": "execute_result"
    }
   ],
   "source": [
    "# identify country with most palm oil mills in this dataset\n",
    "uml_df['Country'].value_counts()"
   ]
  },
  {
   "cell_type": "code",
   "execution_count": 8,
   "metadata": {},
   "outputs": [
    {
     "data": {
      "text/plain": [
       "26"
      ]
     },
     "execution_count": 8,
     "metadata": {},
     "output_type": "execute_result"
    }
   ],
   "source": [
    "# find number of countries in dataset\n",
    "len(uml_df['Country'].unique())"
   ]
  },
  {
   "cell_type": "markdown",
   "metadata": {},
   "source": [
    "1,043 palm oil mills in this dataset are located in Indonesia, more than any other country. In total, there are 26 countries. "
   ]
  },
  {
   "cell_type": "markdown",
   "metadata": {},
   "source": [
    "### 3. Spatial Dataset Information"
   ]
  },
  {
   "cell_type": "markdown",
   "metadata": {},
   "source": [
    "To extract spatial information, the UML dataframe must be converted to a `geodataframe`. `geopandas` is able to generate a `geodataframe` using XY coordinate data."
   ]
  },
  {
   "cell_type": "code",
   "execution_count": 9,
   "metadata": {},
   "outputs": [],
   "source": [
    "# read as geodataframe\n",
    "uml_gdf = gpd.GeoDataFrame(\n",
    "    uml_df,\n",
    "    geometry=gpd.points_from_xy(uml_df['Longitude'], uml_df['Latitude']) # collect XY coord data from Longitude and Latitude columns\n",
    ")"
   ]
  },
  {
   "cell_type": "markdown",
   "metadata": {},
   "source": [
    "We can then use `GeoDataFrame.total_bounds` to return the spatial exent of the points in `[x_min, y_min, x_max, y_max]` format, where `x` is longitude and `y` is latitude."
   ]
  },
  {
   "cell_type": "code",
   "execution_count": 10,
   "metadata": {},
   "outputs": [
    {
     "data": {
      "text/plain": [
       "array([-94.917669, -18.233433, 160.2187  ,  18.978228])"
      ]
     },
     "execution_count": 10,
     "metadata": {},
     "output_type": "execute_result"
    }
   ],
   "source": [
    "# find spatial extent\n",
    "uml_bounds = uml_gdf.total_bounds\n",
    "uml_bounds"
   ]
  },
  {
   "cell_type": "markdown",
   "metadata": {},
   "source": [
    "All rows are between 18°S and 18°N, indicating all palm oil mills in this dataset are within the tropics"
   ]
  },
  {
   "cell_type": "markdown",
   "metadata": {},
   "source": [
    "### 4. Data Visualization"
   ]
  },
  {
   "cell_type": "markdown",
   "metadata": {},
   "source": [
    "Let's visualize palm oil mills by their RSPO certification status."
   ]
  },
  {
   "cell_type": "code",
   "execution_count": 11,
   "metadata": {},
   "outputs": [
    {
     "data": {
      "text/plain": [
       "Not RSPO Certified    1462\n",
       "RSPO Certified         356\n",
       "Name: RSPO_STATU, dtype: int64"
      ]
     },
     "execution_count": 11,
     "metadata": {},
     "output_type": "execute_result"
    }
   ],
   "source": [
    "# find number of mills per certification status\n",
    "uml_gdf['RSPO_STATU'].value_counts()"
   ]
  },
  {
   "cell_type": "markdown",
   "metadata": {},
   "source": [
    "Of the 1,818 palm oil mills, 356 are RSPO certified and 1,462 are not."
   ]
  },
  {
   "cell_type": "markdown",
   "metadata": {},
   "source": [
    "`geopandas` includes pre-installed basemaps to visualize spatial data from geodataframes. We can visualize the palm oil mills locatoin using `geopandas` in conjunction with `matplotlib.pyplot`."
   ]
  },
  {
   "cell_type": "code",
   "execution_count": 12,
   "metadata": {},
   "outputs": [
    {
     "data": {
      "text/plain": [
       "<matplotlib.axes._subplots.AxesSubplot at 0x27b8414b2c8>"
      ]
     },
     "execution_count": 12,
     "metadata": {},
     "output_type": "execute_result"
    },
    {
     "data": {
      "image/png": "[encoded data removed]",
      "text/plain": [
       "<Figure size 1152x1152 with 1 Axes>"
      ]
     },
     "metadata": {
      "needs_background": "light"
     },
     "output_type": "display_data"
    }
   ],
   "source": [
    "# retrieve world map from geopandas\n",
    "world = gpd.read_file(gpd.datasets.get_path('naturalearth_lowres'))\n",
    "\n",
    "# create matplotlib.pyplot figure\n",
    "fig = plt.figure(figsize=(16,16))\n",
    "ax = fig.add_subplot(1,1,1)\n",
    "\n",
    "# set axis limits using the geodataframes' spatial extent \n",
    "ax.set_xlim(uml_bounds[0] - 10, uml_bounds[2] + 10) # add 10 degree buffer\n",
    "ax.set_ylim(uml_bounds[1] - 10, uml_bounds[3] + 10) # add 10 degree buffer\n",
    "\n",
    "# add title\n",
    "ax.set_title('Palm Oil Mills in the Universal Mill List (UML) dataset')\n",
    "\n",
    "# plot\n",
    "world.plot(ax=ax, color='gray')\n",
    "uml_gdf.plot(\n",
    "    ax=ax, \n",
    "    column='RSPO_STATU', # use the RSPO_STATU column to color rows\n",
    "    categorical=True, \n",
    "    markersize=10, \n",
    "    legend=True,         # add legend\n",
    "    cmap='cividis'\n",
    ")"
   ]
  }
 ],
 "metadata": {
  "kernelspec": {
   "display_name": "Python [conda env:diomedes] *",
   "language": "python",
   "name": "conda-env-diomedes-py"
  },
  "language_info": {
   "codemirror_mode": {
    "name": "ipython",
    "version": 3
   },
   "file_extension": ".py",
   "mimetype": "text/x-python",
   "name": "python",
   "nbconvert_exporter": "python",
   "pygments_lexer": "ipython3",
   "version": "3.7.7"
  }
 },
 "nbformat": 4,
 "nbformat_minor": 4
}
